{
  "nbformat": 4,
  "nbformat_minor": 0,
  "metadata": {
    "colab": {
      "provenance": []
    },
    "kernelspec": {
      "name": "python3",
      "display_name": "Python 3"
    },
    "language_info": {
      "name": "python"
    }
  },
  "cells": [
    {
      "cell_type": "code",
      "execution_count": 5,
      "metadata": {
        "colab": {
          "base_uri": "https://localhost:8080/"
        },
        "id": "gGKOIM0g5u_W",
        "outputId": "2e18f0e1-eb09-433e-fe01-5996b7015863"
      },
      "outputs": [
        {
          "output_type": "stream",
          "name": "stdout",
          "text": [
            "Predicted X4: 3.483\n"
          ]
        }
      ],
      "source": [
        "import numpy as np\n",
        "\n",
        "def sigmoid(x):\n",
        "    return 1 / (1 + np.exp(-x))\n",
        "\n",
        "def tanh(x):\n",
        "    return np.tanh(x)\n",
        "\n",
        "def lstm_forward(X, params):\n",
        "    h_prev, c_prev = 0, 0  # Initialize hidden and cell states\n",
        "\n",
        "    for t, x_t in enumerate(X, start=1):\n",
        "        # Forget gate\n",
        "        f_t = sigmoid(params[\"Wf\"] * x_t + params[\"Wnf\"] * h_prev + params[\"bf\"])\n",
        "\n",
        "        # Input gate\n",
        "        i_t = sigmoid(params[\"Wi\"] * x_t + params[\"Wni\"] * h_prev + params[\"bi\"])\n",
        "\n",
        "        # Candidate cell state\n",
        "        c_tilde = tanh(params[\"Wc\"] * x_t + params[\"Wnc\"] * h_prev + params[\"bc\"])\n",
        "\n",
        "        # Updated cell state\n",
        "        c_t = f_t * c_prev + i_t * c_tilde\n",
        "\n",
        "        # Output gate\n",
        "        o_t = sigmoid(params[\"Wo\"] * x_t + params[\"Wno\"] * h_prev + params[\"bo\"])\n",
        "\n",
        "        # Updated hidden state\n",
        "        h_t = o_t * tanh(c_t)\n",
        "\n",
        "        # Update states\n",
        "        h_prev, c_prev = h_t, c_t\n",
        "\n",
        "    return h_prev  # Return last hidden state for prediction\n",
        "\n",
        "params = {\n",
        "    \"Wf\": 0.5, \"Wnf\": 0.1, \"bf\": 0,\n",
        "    \"Wi\": 0.6, \"Wni\": 0.2, \"bi\": 0,\n",
        "    \"Wc\": 0.7, \"Wnc\": 0.3, \"bc\": 0,\n",
        "    \"Wo\": 0.8, \"Wno\": 0.4, \"bo\": 0\n",
        "}\n",
        "\n",
        "X = [1, 2, 3]\n",
        "\n",
        "h_final = lstm_forward(X, params)\n",
        "\n",
        "Wy, by = 4, 0\n",
        "\n",
        "y_pred = Wy * h_final + by\n",
        "\n",
        "print(f\"Predicted X4: {y_pred:.3f}\")\n"
      ]
    }
  ]
}